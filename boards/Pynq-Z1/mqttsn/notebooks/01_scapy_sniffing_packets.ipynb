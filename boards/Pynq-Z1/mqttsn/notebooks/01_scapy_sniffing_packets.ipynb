{
 "cells": [
  {
   "cell_type": "markdown",
   "metadata": {},
   "source": [
    "# `kamene`: Sniffing Network Packets\n",
    "\n",
    "`kamene` is a python package for dissecting and implementing network protocols.\n",
    "\n",
    "Full documentation can be found at: http://www.secdev.org/projects/kamene/doc/\n",
    "\n",
    "## 1. Importing `kamene`\n",
    "\n",
    "The first 2 lines of the next cell suppress warnings from the `kamene` package."
   ]
  },
  {
   "cell_type": "code",
   "execution_count": 1,
   "metadata": {},
   "outputs": [
    {
     "data": {
      "application/javascript": [
       "\n",
       "require(['notebook/js/codecell'], function(codecell) {\n",
       "  codecell.CodeCell.options_default.highlight_modes[\n",
       "      'magic_text/x-csrc'] = {'reg':[/^%%microblaze/]};\n",
       "  Jupyter.notebook.events.one('kernel_ready.Kernel', function(){\n",
       "      Jupyter.notebook.get_cells().map(function(cell){\n",
       "          if (cell.cell_type == 'code'){ cell.auto_highlight(); } }) ;\n",
       "  });\n",
       "});\n"
      ]
     },
     "metadata": {},
     "output_type": "display_data"
    }
   ],
   "source": [
    "import logging\n",
    "logging.getLogger(\"kamene.runtime\").setLevel(logging.ERROR)\n",
    "from kamene.all import *\n",
    "from pynq_networking import *"
   ]
  },
  {
   "cell_type": "markdown",
   "metadata": {},
   "source": [
    "## 2. Sniffing packets\n",
    "\n",
    "`kamene` can sniff packets off the wire and process and display them.\n",
    "\n",
    "The filter is a string in the Berkeley packet filter style: http://biot.com/capstats/bpf.html.\n",
    "\n",
    "The `nsummary()` method prints a summary of each packet,\n",
    "along with its index in the collection.\n",
    "\n",
    "The next cell will sniff packets for 2 seconds and spit out the packet trace."
   ]
  },
  {
   "cell_type": "code",
   "execution_count": 2,
   "metadata": {},
   "outputs": [
    {
     "name": "stdout",
     "output_type": "stream",
     "text": [
      "0000 Ether / ARP who has 172.19.74.59 says 172.19.75.254 / Padding\n",
      "0001 Ether / IP / UDP 172.19.73.185:54915 > 172.19.75.255:54915 / Raw\n",
      "0002 Ether / ARP who has 172.19.3.254 says 172.19.3.129 / Padding\n",
      "0003 Ether / IPv6 / UDP fe80::e46b:e97a:587e:2974:dhcpv6_client > ff02::1:2:dhcpv6_server / DHCP6_Solicit / DHCP6OptElapsedTime / DHCP6OptClientId / DHCP6OptIA_NA / DHCP6OptClientFQDN / DHCP6OptVendorClass / DHCP6OptOptReq\n",
      "0004 Ether / IP / UDP 172.19.72.175:54915 > 172.19.75.255:54915 / Raw\n",
      "0005 Ether / ARP who has 172.19.75.254 says 172.19.73.202 / Padding\n",
      "0006 Ether / IP / UDP 172.19.72.82:54915 > 172.19.75.255:54915 / Raw\n",
      "0007 Ether / IPv6 / UDP fe80::65ae:6817:126:d39b:54300 > ff02::1:3:hostmon / LLMNRQuery\n",
      "0008 Ether / IP / UDP 172.19.73.202:61365 > 224.0.0.252:hostmon / LLMNRQuery\n",
      "0009 Ether / IP / UDP 172.19.74.149:1534 > 172.19.75.255:1534 / Raw / Padding\n",
      "0010 Ether / IPv6 / UDP fe80::65ae:6817:126:d39b:54300 > ff02::1:3:hostmon / LLMNRQuery\n",
      "0011 Ether / IP / UDP 172.19.73.202:61365 > 224.0.0.252:hostmon / LLMNRQuery\n",
      "0012 Ether / IP / UDP 172.19.72.206:54915 > 172.19.75.255:54915 / Raw\n",
      "0013 Ether / IP / UDP 172.19.72.152:54915 > 172.19.75.255:54915 / Raw\n",
      "0014 Ether / IP / UDP 172.19.73.45:1025 > 255.255.255.255:1037 / Raw\n",
      "0015 Ether / ARP who has 172.19.75.163 says 172.19.75.254 / Padding\n",
      "0016 Ether / IP / UDP 172.19.73.185:54915 > 172.19.75.255:54915 / Raw\n",
      "0017 Ether / IP / UDP 172.19.73.9:51125 > 172.19.75.255:1534 / Raw / Padding\n",
      "0018 Ether / ARP who has 172.19.3.254 says 172.19.3.129 / Padding\n",
      "0019 Ether / IPv6 / UDP fe80::56e:ec77:9b02:f321:57274 > ff02::1:3:hostmon / LLMNRQuery\n",
      "0020 Ether / IP / UDP 172.19.72.223:57274 > 224.0.0.252:hostmon / LLMNRQuery\n",
      "0021 Ether / IPv6 / UDP fe80::56e:ec77:9b02:f321:64808 > ff02::1:3:hostmon / LLMNRQuery\n",
      "0022 Ether / IP / UDP 172.19.72.223:64808 > 224.0.0.252:hostmon / LLMNRQuery\n",
      "0023 Ether / IP / UDP 172.19.72.223:netbios_ns > 172.19.75.255:netbios_ns / NBNSQueryRequest\n",
      "0024 Ether / IP / UDP 172.19.72.175:54915 > 172.19.75.255:54915 / Raw\n",
      "0025 Ether / IP / UDP 172.19.72.82:54915 > 172.19.75.255:54915 / Raw\n",
      "0026 Ether / IPv6 / UDP fe80::3baa:ef77:3fcd:51ff:mdns > ff02::fb:mdns / Raw\n",
      "0027 Ether / IP / UDP 172.19.72.45:39074 > 255.255.255.255:10001 / Raw\n",
      "0028 Ether / IP / UDP 172.19.72.45:42161 > 255.255.255.255:10001 / Raw\n",
      "0029 Ether / IPv6 / UDP fe80::56e:ec77:9b02:f321:64808 > ff02::1:3:hostmon / LLMNRQuery\n",
      "0030 Ether / IP / UDP 172.19.72.223:64808 > 224.0.0.252:hostmon / LLMNRQuery\n",
      "0031 Ether / IPv6 / UDP fe80::56e:ec77:9b02:f321:57274 > ff02::1:3:hostmon / LLMNRQuery\n",
      "0032 Ether / IP / UDP 172.19.72.223:57274 > 224.0.0.252:hostmon / LLMNRQuery\n",
      "0033 Ether / IP / UDP 172.19.73.74:mdns > 224.0.0.251:mdns / Raw\n"
     ]
    }
   ],
   "source": [
    "import signal, time\n",
    "\n",
    "def time_out(signum, frame):\n",
    "    raise KeyboardInterrupt\n",
    "\n",
    "signal.signal(signal.SIGALRM, time_out)\n",
    "signal.alarm(2)\n",
    "\n",
    "try:\n",
    "    pkt_trace = sniff(iface=\"br0\", filter=\"udp or arp\")\n",
    "except KeyboardInterrupt:\n",
    "    pass\n",
    "pkt_trace.nsummary()"
   ]
  },
  {
   "cell_type": "markdown",
   "metadata": {},
   "source": [
    "If you execute the previous code on a busy network, you'll probably see lots of packets which are not MQTTSN packets.\n",
    "The following code separates the MQTTSN packets from the other 'uninteresting' packets.\n",
    "In this code x[MQTTSN] returns the first MQTTSN header and the `.payload` field returns the rest of the packet, \n",
    "which depends on the particular type of MQTTSN packet.\n",
    "In this case, if you managed to sniff some MQTTSN packets, you might see something like:\n",
    "\n",
    "```\n",
    "<MQTTSN_CONNECT  dup=0 qos=0 retain=0 will=0 clean=1 topicIDtype=0 protocol=1 duration=30 client='client-temp' |>,\n",
    "<MQTTSN_CONNACK  returnCode=0 |>,\n",
    " ```\n",
    " \n",
    "These packets represent a connect request followed by an acknowledgment."
   ]
  },
  {
   "cell_type": "markdown",
   "metadata": {},
   "source": [
    "We can also do various kinds of analysis on the captured packets, as shown below."
   ]
  },
  {
   "cell_type": "code",
   "execution_count": 3,
   "metadata": {},
   "outputs": [
    {
     "data": {
      "image/png": "[encoded data removed]",
      "text/plain": [
       "<matplotlib.figure.Figure at 0xb6951510>"
      ]
     },
     "metadata": {},
     "output_type": "display_data"
    }
   ],
   "source": [
    "import matplotlib.pyplot as plt\n",
    "from collections import Counter\n",
    "types = [\"ARP\" if ARP in x else \n",
    "         \"MQTTSN\" if MQTTSN in x else\n",
    "         \"IPV6_UDP\" if ((UDP in x) and (IPv6 in x)) else\n",
    "         \"UDP\" if (UDP in x) else\n",
    "         \"IPV6_TCP\" if ((TCP in x) and (IPv6 in x)) else\n",
    "         \"TCP\" if (TCP in x) else\n",
    "         \"Unknown\" for x in pkt_trace]\n",
    "counts = Counter(types)\n",
    "frequencies = counts.values()\n",
    "names = [x for x in counts.keys()]\n",
    "centers = range(len(counts))\n",
    "plt.bar(centers, frequencies, align='center', tick_label=names)\n",
    "plt.title(\"Histogram of received packet types\")\n",
    "plt.show()"
   ]
  },
  {
   "cell_type": "code",
   "execution_count": 4,
   "metadata": {},
   "outputs": [
    {
     "data": {
      "image/png": "[encoded data removed]",
      "text/plain": [
       "<matplotlib.figure.Figure at 0xab87b690>"
      ]
     },
     "metadata": {},
     "output_type": "display_data"
    }
   ],
   "source": [
    "import matplotlib.pyplot as plt\n",
    "if len(pkt_trace) == 0:\n",
    "    print(\"No Data!\")\n",
    "else:\n",
    "    first = pkt_trace[0].time\n",
    "    times = [pkt.time - pkt_trace[0].time for pkt in pkt_trace]\n",
    "    plt.hist(times, bins=64)\n",
    "    plt.title(\"Arrival rate of packets over time\")\n",
    "    plt.xlabel('time (s)')\n",
    "    plt.ylabel('number of packets')\n",
    "    plt.show()"
   ]
  },
  {
   "cell_type": "markdown",
   "metadata": {},
   "source": [
    "## 3. Sniffing in the background\n",
    "Now let us write a script `sniff.py` to be running in the background. \n",
    "This script will collect 100 UDP packets silently, and dump the packet\n",
    "trace into a log file `packet.log`."
   ]
  },
  {
   "cell_type": "code",
   "execution_count": 5,
   "metadata": {},
   "outputs": [
    {
     "data": {
      "text/plain": [
       "0"
      ]
     },
     "execution_count": 5,
     "metadata": {},
     "output_type": "execute_result"
    }
   ],
   "source": [
    "num_packets = 100\n",
    "\n",
    "with open('sniff.py', 'w') as file:\n",
    "    file.write(\n",
    "        'import logging\\n')\n",
    "    file.write(\n",
    "        'logging.getLogger(\"kamene.runtime\").setLevel(logging.ERROR)\\n')\n",
    "    file.write(\n",
    "        'from kamene.all import *\\n')\n",
    "    file.write(\n",
    "        'sniffer = sniff(iface=\"br0\", filter=f\"udp\", \\n')\n",
    "    file.write(\n",
    "        '                count={})\\n'.format(num_packets))\n",
    "    file.write(\n",
    "        'print(sniffer.nsummary())\\n')\n",
    "\n",
    "os.system(\"chmod 777 sniff.py\")\n",
    "os.system(\"python3.6 sniff.py >packet.log&\")"
   ]
  },
  {
   "cell_type": "markdown",
   "metadata": {},
   "source": [
    "It may take some time for the background sniffing process to complete. \n",
    "\n",
    "Use the following command line to check whether the process \n",
    "has completed:\n",
    "```\n",
    "ps -aux | grep 'sniff.py'\n",
    "```\n",
    "\n",
    "After it is done, users can check the contents in `packet.log`.\n",
    "\n",
    "Finally, remove all the generated files."
   ]
  },
  {
   "cell_type": "code",
   "execution_count": 6,
   "metadata": {},
   "outputs": [
    {
     "data": {
      "text/plain": [
       "0"
      ]
     },
     "execution_count": 6,
     "metadata": {},
     "output_type": "execute_result"
    }
   ],
   "source": [
    "os.system(\"rm -rf sniff.py packet.log\")"
   ]
  }
 ],
 "metadata": {
  "kernelspec": {
   "display_name": "Python 3",
   "language": "python",
   "name": "python3"
  },
  "language_info": {
   "codemirror_mode": {
    "name": "ipython",
    "version": 3
   },
   "file_extension": ".py",
   "mimetype": "text/x-python",
   "name": "python",
   "nbconvert_exporter": "python",
   "pygments_lexer": "ipython3",
   "version": "3.6.5"
  }
 },
 "nbformat": 4,
 "nbformat_minor": 1
}
