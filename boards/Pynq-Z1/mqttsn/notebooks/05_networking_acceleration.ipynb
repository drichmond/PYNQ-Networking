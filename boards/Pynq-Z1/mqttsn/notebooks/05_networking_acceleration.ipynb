{
 "cells": [
  {
   "cell_type": "markdown",
   "metadata": {},
   "source": [
    "# Networking Acceleration\n",
    "\n",
    "The Network IO Processor (IOP) enables raw access to the Ethernet interface from within Python.\n",
    "The usage is similar in many ways to sending and receiving Ethernet frames using raw sockets.\n",
    "\n",
    "In software, the code typically executes with about 10ms between publish events.\n",
    "When accelerated using the PL, the code executes about 120us between publish events.\n",
    "\n",
    "\n",
    "## 1. Downloading overlay\n",
    "Now let's download the overlay and do necessary configurations."
   ]
  },
  {
   "cell_type": "code",
   "execution_count": 1,
   "metadata": {
    "collapsed": true
   },
   "outputs": [],
   "source": [
    "from pynq_networking import MqttsnOverlay\n",
    "from site import getsitepackages\n",
    "import os\n",
    "\n",
    "mqttsn_bit = os.path.join(getsitepackages()[0], 'pynq_networking',\n",
    "                          'overlays', 'mqttsn', 'mqttsn.bit')\n",
    "overlay = MqttsnOverlay(mqttsn_bit)\n",
    "overlay.download()"
   ]
  },
  {
   "cell_type": "code",
   "execution_count": 2,
   "metadata": {
    "collapsed": true,
    "scrolled": true
   },
   "outputs": [],
   "source": [
    "import timeit\n",
    "import logging\n",
    "logging.getLogger(\"kamene.runtime\").setLevel(logging.ERROR)\n",
    "from kamene.all import *\n",
    "from wurlitzer import sys_pipes\n",
    "from pynq_networking.lib.network_iop import NetworkIOP\n",
    "from pynq_networking.lib.slurper import PacketSlurper\n",
    "from pynq_networking.lib.pynqsocket import L2PynqSocket\n",
    "\n",
    "conf.L2PynqSocket = L2PynqSocket"
   ]
  },
  {
   "cell_type": "markdown",
   "metadata": {},
   "source": [
    "## 2. Read the temperature sensor value\n",
    "Now let's read the temperature values from Pmod TMP2. In this example,\n",
    "Pmod TMP2 has to be plugged into the PMODB interface."
   ]
  },
  {
   "cell_type": "code",
   "execution_count": 3,
   "metadata": {
    "scrolled": true
   },
   "outputs": [
    {
     "name": "stdout",
     "output_type": "stream",
     "text": [
      "Reading TMP2 from MicroBlaze: 30.2\n",
      "Reading TMP2 from SDSoC: 30.1875\n"
     ]
    }
   ],
   "source": [
    "from pynq.lib.pmod import Pmod_TMP2\n",
    "from pynq_networking.lib.accelerator import Accelerator\n",
    "\n",
    "pmod_tmp2 = Pmod_TMP2(overlay.PMODB)\n",
    "pkt_accel = Accelerator()\n",
    "\n",
    "print(\"Reading TMP2 from MicroBlaze: {}\".format(pmod_tmp2.read()))\n",
    "\n",
    "with sys_pipes():\n",
    "    print(\"Reading TMP2 from SDSoC: {}\".format(\n",
    "        pkt_accel.read_sensor(pmod_tmp2.microblaze)))"
   ]
  },
  {
   "cell_type": "markdown",
   "metadata": {},
   "source": [
    "Next we can test how fast we can read the temperature sensor."
   ]
  },
  {
   "cell_type": "code",
   "execution_count": 4,
   "metadata": {},
   "outputs": [
    {
     "name": "stdout",
     "output_type": "stream",
     "text": [
      "Sensor performs 1225.1861066887543 reads/second.\n",
      "Temperature is 30.2 degrees.\n"
     ]
    }
   ],
   "source": [
    "count = 1000\n",
    "\n",
    "start_time = timeit.default_timer()\n",
    "for _ in range(count):\n",
    "    x = pmod_tmp2.read()\n",
    "elapsed = timeit.default_timer() - start_time\n",
    "\n",
    "print(\"Sensor performs \" + str(count/elapsed)+\" reads/second.\")\n",
    "print(\"Temperature is \" + str(x) + \" degrees.\")"
   ]
  },
  {
   "cell_type": "markdown",
   "metadata": {},
   "source": [
    "## 3. Bring up interfaces and modules\n",
    "We can bring up a network interface for testing. \n",
    "For hardware acceleration, we need to inject the Linux kernel driver.\n",
    "\n",
    "The Python class `LinkManager` is a wrapper for the following commands:\n",
    "```csh\n",
    "chmod 777 ./kernel_module/*.sh\n",
    "ifconfig br0:1 192.168.3.99\n",
    "ifconfig br0:0 192.168.1.99\n",
    "./kernel_module/link_up.sh\n",
    "```"
   ]
  },
  {
   "cell_type": "code",
   "execution_count": 5,
   "metadata": {
    "collapsed": true
   },
   "outputs": [],
   "source": [
    "from pynq_networking import LinkManager\n",
    "\n",
    "if_manager = LinkManager()\n",
    "if_manager.if_up(\"br0:1\", \"192.168.3.99\")\n",
    "if_manager.if_up(\"br0:0\", \"192.168.1.99\")\n",
    "if_manager.kernel_up()"
   ]
  },
  {
   "cell_type": "markdown",
   "metadata": {},
   "source": [
    "The kernel module only needs to be brought up 1 time after the \n",
    "board has been booted."
   ]
  },
  {
   "cell_type": "markdown",
   "metadata": {},
   "source": [
    "## 4. Setup broker\n",
    "We will use the IP associated with `br0:1` to set up the broker.\n",
    "For the network IOP, the packets have to be flushed first."
   ]
  },
  {
   "cell_type": "code",
   "execution_count": 6,
   "metadata": {
    "collapsed": true
   },
   "outputs": [],
   "source": [
    "from pynq_networking import Broker\n",
    "from pynq_networking import get_ip_string, get_mac_string\n",
    "from pynq_networking.lib.network_iop import NetworkIOP\n",
    "from pynq_networking.lib.mqttsn_hw import MQTT_Client_PL\n",
    "\n",
    "serverIP = \"192.168.3.99\"\n",
    "serverPort = 1884\n",
    "\n",
    "broker_mqtt = Broker(ip_address=serverIP, mqttsn_port=serverPort)\n",
    "broker_mqtt.open()"
   ]
  },
  {
   "cell_type": "code",
   "execution_count": 7,
   "metadata": {},
   "outputs": [
    {
     "name": "stdout",
     "output_type": "stream",
     "text": [
      "181 packets flushed\n"
     ]
    }
   ],
   "source": [
    "mynet = NetworkIOP()\n",
    "mytmp = pmod_tmp2.microblaze\n",
    "\n",
    "conf.L2PynqSocket().flush()"
   ]
  },
  {
   "cell_type": "markdown",
   "metadata": {},
   "source": [
    "## 5. Publish events with accelerator\n",
    "We will now use the hardware accelerator to publish events. \n",
    "The Python API is shown below:\n",
    "```Python\n",
    "    def publish_mmio(self, size, count, pl_mac_address, pl_ip_address,\n",
    "                     server_ip_address, server_port_number,\n",
    "                     topic_id, qos, verbose, net_iop, sensor_iop):\n",
    "        \"\"\"Publish data from the given temperature sensor to an MQTTSN server.\n",
    "\n",
    "        This method will use the MMIO to control the accelerator.\n",
    "\n",
    "        Parameters\n",
    "        ----------\n",
    "        size : int\n",
    "            The size of frames to generate.\n",
    "        count : int\n",
    "            The number of publish events to complete.\n",
    "        pl_mac_address : int/str\n",
    "            The MAC Address of the PL accelerator (not the host MAC address).\n",
    "        pl_ip_address : int/str\n",
    "            The IP Address of the PL accelerator (not the host IP address).\n",
    "        server_ip_address : int/str\n",
    "            The IP Address of the MQTTSN server.\n",
    "        server_port_number : int\n",
    "            The port number of the MQTTSN server.\n",
    "        topic_id : int\n",
    "            The topic ID to publish on.\n",
    "        qos : int\n",
    "            The MQTTSN qos to use (0 means response is not required).\n",
    "        verbose : int\n",
    "            A non-zero value will get verbose debugging information.\n",
    "        net_iop : NetworkIOP\n",
    "            The network IOP object.\n",
    "        sensor_iop : Pmod_TMP2\n",
    "            The temperature sensor object.\n",
    "\n",
    "        \"\"\"\n",
    "```\n",
    "\n",
    "\n",
    "For example, we can call:\n",
    "```python\n",
    "from broker_client.accelerator import Accelerator\n",
    "\n",
    "pkt_accel = Accelerator()\n",
    "pkt_accel.publish_mmio(100, 5, local_mac, local_ip, \n",
    "                       serverIP, serverPort, \n",
    "                       1, 0, 1, mynet, mytmp)\n",
    "```\n",
    "\n",
    "We can keep publishing events and see how fast we can publish them.\n",
    "The following cell is using a thin wrapper for the MQTT client. Internally,\n",
    "it calls the `Accelerator()` class and uses `publish_mmio()` method.\n",
    "\n",
    "Users can also check the frame content using:\n",
    "\n",
    "```python\n",
    "frame = conf.L2PynqSocket().recv()\n",
    "print(frame)\n",
    "```"
   ]
  },
  {
   "cell_type": "code",
   "execution_count": 8,
   "metadata": {},
   "outputs": [
    {
     "name": "stdout",
     "output_type": "stream",
     "text": [
      "158 packets flushed\n",
      "MQTTSN: Ether / IP / UDP 192.168.3.99:1884 > 192.168.1.104:50000 / MQTTSN / MQTTSN_CONNACK / Padding\n",
      "MQTTSN: Ether / IP / UDP 192.168.3.99:1884 > 192.168.1.104:50000 / MQTTSN / MQTTSN_REGACK / Padding\n",
      "MQTTSN: Ether / IP / UDP 192.168.3.99:1884 > 192.168.1.104:50000 / MQTTSN / MQTTSN_PUBACK / Padding\n",
      "3 packets flushed\n",
      "status 6\n",
      "events_completed: 500\n",
      "PublishesSent: 500\n",
      "calls 1000\n",
      "events_completed: 500\n",
      "PublishesSent: 500\n",
      "PacketsReceived: 4\n",
      "PacketsSent: 500\n",
      "HW publish speed: 3333.3938010971037 packets/second.\n"
     ]
    }
   ],
   "source": [
    "conf.L2PynqSocket().flush()\n",
    "count = 500\n",
    "with sys_pipes():\n",
    "    with MQTT_Client_PL(serverIP, serverPort, \"client-hw\") as client:\n",
    "        topicID = client.register(\"temperature\")\n",
    "        client.publish_sw(topicID, \"27.0\")\n",
    "        conf.L2PynqSocket().flush()\n",
    "\n",
    "        start_time = timeit.default_timer()\n",
    "        client.publish_hw(mynet, mytmp, topicID, 0, range(count))\n",
    "        elapsed = timeit.default_timer() - start_time\n",
    "\n",
    "print(\"HW publish speed: \" + str(count/elapsed)+\" packets/second.\")"
   ]
  },
  {
   "cell_type": "code",
   "execution_count": 9,
   "metadata": {},
   "outputs": [
    {
     "name": "stdout",
     "output_type": "stream",
     "text": [
      "195 packets flushed\n",
      "MQTTSN: Ether / IP / UDP 192.168.3.99:1884 > 192.168.1.104:50000 / MQTTSN / MQTTSN_CONNACK / Padding\n",
      "MQTTSN: Ether / IP / UDP 192.168.3.99:1884 > 192.168.1.104:50000 / MQTTSN / MQTTSN_REGACK / Padding\n",
      "MQTTSN: Ether / IP / UDP 192.168.3.99:1884 > 192.168.1.104:50000 / MQTTSN / MQTTSN_PUBACK / Padding\n",
      "3 packets flushed\n",
      "SW publish speed: 46.874655421477996 packets/second.\n"
     ]
    }
   ],
   "source": [
    "conf.L2PynqSocket().flush()\n",
    "count = 500\n",
    "with sys_pipes():\n",
    "    with MQTT_Client_PL(serverIP, serverPort, \"client-sw\") as client:\n",
    "        temp_topicID = client.register(\"temperature\")\n",
    "        client.publish_sw(topicID, \"27.0\")\n",
    "        conf.L2PynqSocket().flush()\n",
    "\n",
    "        start_time = timeit.default_timer()  \n",
    "        temperature = str(pmod_tmp2.read())\n",
    "        for i in range(count):\n",
    "            client.publish_sw(temp_topicID, temperature, qos=0)\n",
    "        elapsed = timeit.default_timer() - start_time\n",
    "\n",
    "print(\"SW publish speed: \" + str(count/elapsed)+\" packets/second.\")"
   ]
  },
  {
   "cell_type": "markdown",
   "metadata": {},
   "source": [
    "## 7. Cleanup\n",
    "We can remove the kernel module and close the broker in the end."
   ]
  },
  {
   "cell_type": "code",
   "execution_count": 10,
   "metadata": {
    "collapsed": true
   },
   "outputs": [],
   "source": [
    "if_manager.kernel_down()\n",
    "if_manager.if_down('br0:0')\n",
    "if_manager.if_down('br0:1')\n",
    "broker_mqtt.close()"
   ]
  }
 ],
 "metadata": {
  "kernelspec": {
   "display_name": "Python 3",
   "language": "python",
   "name": "python3"
  },
  "language_info": {
   "codemirror_mode": {
    "name": "ipython",
    "version": 3
   },
   "file_extension": ".py",
   "mimetype": "text/x-python",
   "name": "python",
   "nbconvert_exporter": "python",
   "pygments_lexer": "ipython3",
   "version": "3.6.5"
  }
 },
 "nbformat": 4,
 "nbformat_minor": 1
}
